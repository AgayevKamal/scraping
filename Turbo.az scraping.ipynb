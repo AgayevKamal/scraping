{
 "cells": [
  {
   "cell_type": "code",
   "execution_count": null,
   "metadata": {},
   "outputs": [],
   "source": [
    "from bs4 import BeautifulSoup \n",
    "from csv import writer"
   ]
  },
  {
   "cell_type": "code",
   "execution_count": null,
   "metadata": {},
   "outputs": [],
   "source": [
    "import requests\n",
    "\n",
    "# Kullanıcı aracısı dizesini istediğiniz gibi değiştirin\n",
    "custom_user_agent = \"Mozilla/5.0 (Windows NT 10.0; Win64; x64) AppleWebKit/537.36 (KHTML, like Gecko) Chrome/90.0.4430.212 Safari/537.36\"\n",
    "\n",
    "# İstek başlıklarını ayarlayarak kullanıcı aracısı dizesini değiştirin\n",
    "headers = {\n",
    "    \"User-Agent\": custom_user_agent\n",
    "}\n",
    "\n",
    "# İstek gönderme\n",
    "response = requests.get(\"https://turbo.az/\", headers=headers)\n",
    "\n",
    "# Yanıtı kontrol etme\n",
    "if response.status_code == 200:\n",
    "    print(\"confirmed!\")\n",
    "else:\n",
    "    print(\"not confirmed\")\n"
   ]
  },
  {
   "cell_type": "code",
   "execution_count": null,
   "metadata": {},
   "outputs": [],
   "source": [
    "import pandas as pd \n",
    "import numpy as np \n",
    "import requests \n",
    "from bs4 import BeautifulSoup\n",
    "import threading\n",
    "import time\n",
    "from datetime import datetime\n"
   ]
  },
  {
   "cell_type": "code",
   "execution_count": null,
   "metadata": {},
   "outputs": [],
   "source": [
    "print('started')"
   ]
  },
  {
   "cell_type": "code",
   "execution_count": null,
   "metadata": {},
   "outputs": [],
   "source": [
    "exc_start = time.time()\n",
    "page_count = 23\n",
    "urls = list()"
   ]
  },
  {
   "cell_type": "code",
   "execution_count": null,
   "metadata": {},
   "outputs": [],
   "source": [
    "for page in range(1, page_count+1):\n",
    "    url = f'https://turbo.az/autos?page={page}'\n",
    "    response = requests.get(url,headers=headers)\n",
    "    soup = BeautifulSoup(response.content, 'html.parser')\n",
    "    items = soup.find_all('a', class_='products-i__link')\n",
    "    urls.append([a_tag.get('href') for a_tag in items]) "
   ]
  },
  {
   "cell_type": "code",
   "execution_count": null,
   "metadata": {},
   "outputs": [],
   "source": [
    "urls = np.concatenate(urls, axis=None)\n",
    "urls = np.array(['https://turbo.az' + url for url in urls])\n",
    "urls = np.unique(urls)\n",
    "\n",
    "print(f'Url Handling: {time.time() - exc_start}')"
   ]
  },
  {
   "cell_type": "code",
   "execution_count": null,
   "metadata": {},
   "outputs": [],
   "source": [
    "data_list = list()\n",
    "errors = list()\n"
   ]
  },
  {
   "cell_type": "code",
   "execution_count": null,
   "metadata": {},
   "outputs": [],
   "source": [
    "def scrape(url):\n",
    "    \n",
    "    \"\"\"\n",
    "    Scrapes data from a webpage based on the provided URL.\n",
    "\n",
    "    Args:\n",
    "        url (str): The URL of the webpage to scrape.\n",
    "    \"\"\"\n",
    "    \n",
    "    data = pd.DataFrame()\n",
    "    \n",
    "    \n",
    "    response = requests.get(url,headers=headers)\n",
    "    soup = BeautifulSoup(response.content, 'html.parser')\n",
    "    \n",
    "    \n",
    "    owner = soup.find('div', 'product-owner__info')\n",
    "        \n",
    "    try:\n",
    "        data['Telefonlar'] = ' && '.join([i.text.strip() for i in soup.find_all('a', class_='product-phones__list-i')])\n",
    "    except: errors.append(('Telefon', url))\n",
    "    \n",
    "   \n",
    "    data['Url'] = [url]\n",
    "    \n",
    "    data_list.append(data)"
   ]
  },
  {
   "cell_type": "code",
   "execution_count": null,
   "metadata": {},
   "outputs": [],
   "source": [
    "url_count = len(urls)\n",
    "thread_count = 35"
   ]
  },
  {
   "cell_type": "code",
   "execution_count": null,
   "metadata": {},
   "outputs": [],
   "source": [
    "arr = [*range(0, url_count, thread_count)]\n",
    "length = [*range(url_count)]\n",
    "i = 0"
   ]
  },
  {
   "cell_type": "code",
   "execution_count": null,
   "metadata": {},
   "outputs": [],
   "source": [
    "while True:\n",
    "    all_threads = []\n",
    "    try:\n",
    "        for e in length[arr[i]:arr[i + 1]]:\n",
    "            thread = threading.Thread(target=scrape, args=(urls[e],))\n",
    "            all_threads.append(thread)\n",
    "\n",
    "        for thread in all_threads:\n",
    "            thread.start()\n",
    "\n",
    "        for thread in all_threads:\n",
    "            thread.join()\n",
    "\n",
    "        i += 1\n",
    "    except:\n",
    "        for e in length[arr[i]:]:\n",
    "            thread = threading.Thread(target=scrape, args=(urls[e],))\n",
    "            all_threads.append(thread)\n",
    "\n",
    "        for thread in all_threads:\n",
    "            thread.start()\n",
    "\n",
    "        for thread in all_threads:\n",
    "            thread.join()\n",
    "        break  "
   ]
  },
  {
   "cell_type": "code",
   "execution_count": null,
   "metadata": {},
   "outputs": [],
   "source": [
    "main_data = pd.concat(data_list, ignore_index=True)\n",
    "main_data.to_csv(f'{datetime.now().strftime(\"%b-%d-%Y %H-%M-%S\")}.csv',\n",
    "                 encoding='utf_8_sig',\n",
    "                 index=False)\n"
   ]
  },
  {
   "cell_type": "code",
   "execution_count": null,
   "metadata": {},
   "outputs": [],
   "source": [
    "print(*errors, end='\\n')\n",
    "print(f'Execution time: {time.time() - exc_start}')"
   ]
  },
  {
   "cell_type": "code",
   "execution_count": null,
   "metadata": {},
   "outputs": [],
   "source": [
    "main_data"
   ]
  },
  {
   "cell_type": "code",
   "execution_count": null,
   "metadata": {},
   "outputs": [],
   "source": []
  }
 ],
 "metadata": {
  "kernelspec": {
   "display_name": "Python 3",
   "language": "python",
   "name": "python3"
  },
  "language_info": {
   "codemirror_mode": {
    "name": "ipython",
    "version": 3
   },
   "file_extension": ".py",
   "mimetype": "text/x-python",
   "name": "python",
   "nbconvert_exporter": "python",
   "pygments_lexer": "ipython3",
   "version": "3.8.5"
  }
 },
 "nbformat": 4,
 "nbformat_minor": 5
}
